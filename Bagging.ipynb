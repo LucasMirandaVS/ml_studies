{
  "cells": [
    {
      "cell_type": "markdown",
      "metadata": {
        "id": "view-in-github",
        "colab_type": "text"
      },
      "source": [
        "<a href=\"https://colab.research.google.com/github/LucasMirandaVS/ml_studies/blob/main/Bagging.ipynb\" target=\"_parent\"><img src=\"https://colab.research.google.com/assets/colab-badge.svg\" alt=\"Open In Colab\"/></a>"
      ]
    },
    {
      "cell_type": "markdown",
      "metadata": {
        "button": false,
        "new_sheet": false,
        "run_control": {
          "read_only": false
        },
        "id": "Ucw00q0Cl5pV"
      },
      "source": [
        "\n",
        "# Bootstrap Aggregating (Bagging) for classification with Python\n",
        "\n",
        "Estimated time needed: **45** minutes\n",
        "\n",
        "## Objectives\n",
        "\n",
        "After completing this lab you will be able to:\n",
        "\n",
        "*   Understand Bootstrap sampling\n",
        "*   Understand  Model Instability\n",
        "*   Apply Bagging\n",
        "*   Understand when to use Bagging\n"
      ]
    },
    {
      "cell_type": "markdown",
      "metadata": {
        "id": "_cGrvhNEl5pX"
      },
      "source": [
        "In this notebook, you will learn the process of Bagging  (Bootstrap Aggregation)  models for classification. Bagging is a method for generating multiple model versions and aggregating the ensemble of models to make a single prediction. For classification, aggregation performs majority vote when predicting a class. The various versions of the model are formed by performing Bootstrap sampling of the training set and using these to train each model in the ensemble .\n"
      ]
    },
    {
      "cell_type": "markdown",
      "metadata": {
        "id": "I6TBo2oOl5pX"
      },
      "source": [
        "<h1>Table of contents</h1>\n",
        "\n",
        "<div class=\"alert alert-block alert-info\" style=\"margin-top: 20px\">\n",
        "    <ol>\n",
        "        <li><a href=\"https://#about_dataset\">About the dataset</a></li>\n",
        "        <li><a href=\"https://#preprocessing\">Data pre-processing and selection</a></li>\n",
        "        <li><a href=\"https://#modeling\">Modeling (Logistic Regression with Scikit-learn)</a></li>\n",
        "        <li><a href=\"https://#evaluation\">Evaluation</a></li>\n",
        "        <li><a href=\"https://#practice\">Practice</a></li>\n",
        "    </ol>\n",
        "</div>\n",
        "<br>\n",
        "<hr>\n"
      ]
    },
    {
      "cell_type": "markdown",
      "metadata": {
        "button": false,
        "new_sheet": false,
        "run_control": {
          "read_only": false
        },
        "id": "SB54jvK4l5pX"
      },
      "source": [
        "Let's first import required libraries:\n"
      ]
    },
    {
      "cell_type": "code",
      "execution_count": null,
      "metadata": {
        "id": "0Gb827Pkl5pY"
      },
      "outputs": [],
      "source": [
        "# All Libraries required for this lab are listed below. The libraries pre-installed on Skills Network Labs are commented.\n",
        "# !mamba install -qy pandas==1.3.3 numpy==1.21.2 ipywidgets==7.4.2 scipy==7.4.2 tqdm==4.62.3 matplotlib==3.5.0 seaborn==0.9.0\n",
        "# Note: If your environment doesn't support \"!mamba install\", use \"!pip install\""
      ]
    },
    {
      "cell_type": "code",
      "execution_count": null,
      "metadata": {
        "button": false,
        "new_sheet": false,
        "run_control": {
          "read_only": false
        },
        "id": "B0jVAF9ql5pY"
      },
      "outputs": [],
      "source": [
        "# Library for reading in data and using dataframes\n",
        "import pandas as pd\n",
        "# Using numpy arrays\n",
        "import numpy as np\n",
        "# Data preprocessing functions like LabelEncoder\n",
        "from sklearn import preprocessing\n",
        "%matplotlib inline\n",
        "# Visualizations\n",
        "import matplotlib.pyplot as plt\n",
        "# Model accuracy\n",
        "from sklearn import metrics\n",
        "# Surpress numpy data type warnings\n",
        "import warnings\n",
        "warnings.filterwarnings(\"ignore\", category=DeprecationWarning)\n",
        "# Give loops a progress bar\n",
        "from tqdm import tqdm"
      ]
    },
    {
      "cell_type": "markdown",
      "metadata": {
        "id": "QTc0AX5Vl5pY"
      },
      "source": [
        "This function calculates the train and test accuracy of a model\n"
      ]
    },
    {
      "cell_type": "code",
      "execution_count": null,
      "metadata": {
        "id": "18a147mol5pY"
      },
      "outputs": [],
      "source": [
        "def get_accuracy(X_train, X_test, y_train, y_test, model):\n",
        "    return  {\"test Accuracy\":metrics.accuracy_score(y_test, model.predict(X_test)),\"train Accuracy\": metrics.accuracy_score(y_train, model.predict(X_train))}"
      ]
    },
    {
      "cell_type": "markdown",
      "metadata": {
        "id": "UB9ljDJMl5pZ"
      },
      "source": [
        "This function creates visualizations of decision trees\n"
      ]
    },
    {
      "cell_type": "code",
      "execution_count": null,
      "metadata": {
        "id": "SSJ2J6Dql5pZ"
      },
      "outputs": [],
      "source": [
        "# Plot tree helper libraries\n",
        "from  io import StringIO\n",
        "import pydotplus\n",
        "import matplotlib.image as mpimg\n",
        "from sklearn import tree\n",
        "\n",
        "\n",
        "def plot_tree(model,filename = \"tree.png\"):\n",
        "    #global churn_df\n",
        "\n",
        "    dot_data = StringIO()\n",
        "\n",
        "\n",
        "    featureNames = [colunm  for colunm in churn_df[['tenure', 'age', 'address', 'income', 'ed', 'employ', 'equip']].columns]\n",
        "    out=tree.export_graphviz(model,feature_names=featureNames, out_file=dot_data, class_names= ['left','stay'], filled=True,  special_characters=True,rotate=False)\n",
        "    graph = pydotplus.graph_from_dot_data(dot_data.getvalue())\n",
        "    graph.write_png(filename)\n",
        "    img = mpimg.imread(filename)\n",
        "    plt.figure(figsize=(100, 200))\n",
        "    plt.imshow(img,interpolation='nearest')"
      ]
    },
    {
      "cell_type": "markdown",
      "metadata": {
        "id": "wkggfsg5l5pZ"
      },
      "source": [
        "This function creates a graph of training accuracy vs how many estimators (Decision Trees) a BaggingClassifier uses\n"
      ]
    },
    {
      "cell_type": "code",
      "execution_count": null,
      "metadata": {
        "id": "X6S_fWBQl5pZ"
      },
      "outputs": [],
      "source": [
        "def get_accuracy_bag(X,y,title,times=20,xlabel='Number Estimators'):\n",
        "    #Iterate through different number of estimators and average out the results\n",
        "\n",
        "\n",
        "    N_estimators=[n for n in range(1,70)]\n",
        "    times=20\n",
        "    train_acc=np.zeros((times,len(N_estimators)))\n",
        "    test_acc=np.zeros((times,len(N_estimators)))\n",
        "\n",
        "    train_time=np.zeros((times,len(N_estimators)))\n",
        "    test_time=np.zeros((times,len(N_estimators)))\n",
        "     #average out the results\n",
        "    for n in tqdm(range(times)):\n",
        "        X_train, X_test, y_train, y_test = train_test_split( X, y, test_size=0.3)\n",
        "        for n_estimators in N_estimators:\n",
        "            #Iterate through different number of estimators and average out the results\n",
        "\n",
        "            Bag= BaggingClassifier(base_estimator=DecisionTreeClassifier(criterion=\"entropy\", max_depth = 10),n_estimators=n_estimators,bootstrap=True,random_state=0)\n",
        "            Bag.fit(X_train,y_train)\n",
        "\n",
        "\n",
        "\n",
        "            Accuracy=get_accuracy(X_train, X_test, y_train, y_test,  Bag)\n",
        "\n",
        "\n",
        "\n",
        "\n",
        "            train_acc[n,n_estimators-1]=Accuracy['train Accuracy']\n",
        "            test_acc[n,n_estimators-1]=Accuracy['test Accuracy']\n",
        "\n",
        "\n",
        "\n",
        "    fig, ax1 = plt.subplots()\n",
        "\n",
        "    ax2 = ax1.twinx()\n",
        "    ax1.plot(train_acc.mean(axis=0))\n",
        "    ax2.plot(test_acc.mean(axis=0),c='r')\n",
        "    ax1.set_xlabel(xlabel)\n",
        "    ax1.set_ylabel('Training accuracy',color='b')\n",
        "    ax2.set_ylabel('Testing accuracy', color='r')\n",
        "    plt.title(title)\n",
        "    plt.show()\n",
        "\n",
        ""
      ]
    },
    {
      "cell_type": "markdown",
      "metadata": {
        "id": "KTnqFTEVl5pZ"
      },
      "source": [
        "## Customer churn\n",
        "\n",
        "A telecommunications company is concerned about the number of customers leaving their land-line business for cable competitors. They need to understand who is leaving. Imagine that you are an analyst at this company and you have to find out why\n"
      ]
    },
    {
      "cell_type": "markdown",
      "metadata": {
        "button": false,
        "new_sheet": false,
        "run_control": {
          "read_only": false
        },
        "id": "N0Xh2kyAl5pZ"
      },
      "source": [
        "### About the dataset\n",
        "\n",
        "We will use a telecommunications dataset for predicting customer churn. This is a historical customer dataset where each row represents one customer. The data is relatively easy to understand, and you may uncover insights you can use immediately. Typically it is less expensive to keep customers than acquire new ones, so the focus of this analysis is to predict the customers who will stay with the company.\n",
        "\n",
        "This data set provides information to help you predict what behavior will help you to retain customers. You can analyze all relevant customer data and develop focused customer retention programs.\n",
        "\n",
        "The dataset includes information about:\n",
        "\n",
        "*   Customers who left within the last month – the column is called Churn\n",
        "*   Services that each customer has signed up for – phone, multiple lines, internet, online security, online backup, device protection, tech support, and streaming TV and movies\n",
        "*   Customer account information – how long they had been a customer, contract, payment method, paperless billing, monthly charges, and total charges\n",
        "*   Demographic info about customers – gender, age range, and if they have partners and dependents\n"
      ]
    },
    {
      "cell_type": "markdown",
      "metadata": {
        "button": false,
        "new_sheet": false,
        "run_control": {
          "read_only": false
        },
        "id": "WyArqdu-l5pa"
      },
      "source": [
        "### Load Data From CSV File\n"
      ]
    },
    {
      "cell_type": "code",
      "execution_count": null,
      "metadata": {
        "button": false,
        "new_sheet": false,
        "run_control": {
          "read_only": false
        },
        "id": "4JloVxkal5pa"
      },
      "outputs": [],
      "source": [
        "churn_df = pd.read_csv(\"https://cf-courses-data.s3.us.cloud-object-storage.appdomain.cloud/IBMDeveloperSkillsNetwork-ML0101EN-SkillsNetwork/labs/Module%203/data/ChurnData.csv\")\n",
        "\n",
        "churn_df.head()"
      ]
    },
    {
      "cell_type": "markdown",
      "metadata": {
        "id": "3J40EKKDl5pa"
      },
      "source": [
        "<h2 id=\"preprocessing\">Data pre-processing and selection</h2>\n"
      ]
    },
    {
      "cell_type": "markdown",
      "metadata": {
        "id": "qvDBJWUIl5pa"
      },
      "source": [
        "Let's select some features for the modeling. Also, we change the target data type to be an integer, as it is a requirement by the skitlearn algorithm:\n"
      ]
    },
    {
      "cell_type": "code",
      "execution_count": null,
      "metadata": {
        "id": "E_vtS5KBl5pa"
      },
      "outputs": [],
      "source": [
        "churn_df = churn_df[['tenure', 'age', 'address', 'income', 'ed', 'employ', 'equip',   'callcard', 'wireless','churn']]\n",
        "churn_df['churn'] = churn_df['churn'].astype('int')\n",
        "churn_df.head()"
      ]
    },
    {
      "cell_type": "markdown",
      "metadata": {
        "button": true,
        "new_sheet": true,
        "run_control": {
          "read_only": false
        },
        "id": "-dMrJYybl5pa"
      },
      "source": [
        "## Practice\n",
        "\n",
        "How many rows and columns are in this dataset in total? What are the names of columns?\n"
      ]
    },
    {
      "cell_type": "code",
      "execution_count": null,
      "metadata": {
        "button": false,
        "new_sheet": false,
        "run_control": {
          "read_only": false
        },
        "id": "A5GfDv7hl5pa"
      },
      "outputs": [],
      "source": [
        "# write your code here\n"
      ]
    },
    {
      "cell_type": "markdown",
      "metadata": {
        "id": "WIiXBmXnl5pa"
      },
      "source": [
        "<details><summary>Click here for the solution</summary>\n",
        "\n",
        "```python\n",
        "print(churn_df.shape)\n",
        "\n",
        "print(churn_df.columns)\n",
        "```\n",
        "\n",
        "</details>\n"
      ]
    },
    {
      "cell_type": "markdown",
      "metadata": {
        "id": "ZrEWg0oKl5pa"
      },
      "source": [
        "## Bootstrap Sampling\n",
        "\n",
        "Bootstrap Sampling is a method that involves drawing of sample data repeatedly with replacement from a data source to estimate a model parameter. Scikit-learn has methods for Bagging but its helpful to understand Bootstrap sampling.  We will import <code>resample</code>\n"
      ]
    },
    {
      "cell_type": "code",
      "execution_count": null,
      "metadata": {
        "id": "1xs2kEu_l5pa"
      },
      "outputs": [],
      "source": [
        "from sklearn.utils import resample"
      ]
    },
    {
      "cell_type": "markdown",
      "metadata": {
        "id": "trIr6iWCl5pa"
      },
      "source": [
        "Consider the five rows of data:\n"
      ]
    },
    {
      "cell_type": "code",
      "execution_count": null,
      "metadata": {
        "id": "n3ZnPwVll5pb"
      },
      "outputs": [],
      "source": [
        "churn_df[0:5]"
      ]
    },
    {
      "cell_type": "markdown",
      "metadata": {
        "id": "CrDWpmJfl5pb"
      },
      "source": [
        "We can perform a bootstrap sample using the function <code>resample</code>; we see the dataset is the same size, but some rows are repeated:\n"
      ]
    },
    {
      "cell_type": "code",
      "execution_count": null,
      "metadata": {
        "id": "Cfihdzdwl5pb"
      },
      "outputs": [],
      "source": [
        "resample(churn_df[0:5])"
      ]
    },
    {
      "cell_type": "markdown",
      "metadata": {
        "id": "S4zKSH1cl5pb"
      },
      "source": [
        "We can repeat the process randomly drawing several other rows\n"
      ]
    },
    {
      "cell_type": "code",
      "execution_count": null,
      "metadata": {
        "id": "GPb9s71Nl5pb"
      },
      "outputs": [],
      "source": [
        "resample(churn_df[0:5])"
      ]
    },
    {
      "cell_type": "markdown",
      "metadata": {
        "id": "hydi_oHYl5pb"
      },
      "source": [
        "## Train/Test dataset\n"
      ]
    },
    {
      "cell_type": "markdown",
      "metadata": {
        "id": "poivXMyzl5pb"
      },
      "source": [
        "Let's define X, and y for our dataset:\n"
      ]
    },
    {
      "cell_type": "code",
      "execution_count": null,
      "metadata": {
        "id": "O7p052vSl5pb"
      },
      "outputs": [],
      "source": [
        "X = churn_df[['tenure', 'age', 'address', 'income', 'ed', 'employ', 'equip']]\n",
        "\n",
        "X.head()"
      ]
    },
    {
      "cell_type": "code",
      "execution_count": null,
      "metadata": {
        "id": "SRQUXoLrl5pb"
      },
      "outputs": [],
      "source": [
        "y = churn_df['churn']\n",
        "y.head()"
      ]
    },
    {
      "cell_type": "markdown",
      "metadata": {
        "id": "dUVsHHnsl5pb"
      },
      "source": [
        "## Train/Test dataset\n"
      ]
    },
    {
      "cell_type": "markdown",
      "metadata": {
        "id": "7A2Jigdvl5pb"
      },
      "source": [
        "We split our dataset into train and test set:\n"
      ]
    },
    {
      "cell_type": "code",
      "execution_count": null,
      "metadata": {
        "id": "AFb6cjGul5pc"
      },
      "outputs": [],
      "source": [
        "from sklearn.model_selection import train_test_split\n",
        "X_train, X_test, y_train, y_test = train_test_split( X, y, test_size=0.3, random_state=0)\n",
        "print ('Train set', X_train.shape,  y_train.shape)\n",
        "print ('Test set', X_test.shape,  y_test.shape)"
      ]
    },
    {
      "cell_type": "markdown",
      "metadata": {
        "id": "H4ICU_pKl5pc"
      },
      "source": [
        "<h2 id=\"modeling\">Decision  Tree Classifier  with Scikit-learn</h2>\n"
      ]
    },
    {
      "cell_type": "markdown",
      "metadata": {
        "id": "qh8zoup4l5pc"
      },
      "source": [
        "A Decision  tree Classifier classifies a sample by learning simple decision rules inferred from the data. One problem with Decision  Tree Classifiers is overfitting; they do well with the training data, but they do not Generalize well. Trees have low bias and high variance; as such, they are a prime candidate for Bagging. Instability is another term used to describe models that overfit. Instability is characterized by a slight change in the training set that causes a drastic change in the model.  Let's show that Decision tree Classifiers are unstable.\n"
      ]
    },
    {
      "cell_type": "markdown",
      "metadata": {
        "id": "qJ0FtBNGl5pc"
      },
      "source": [
        "Let's load the DecisionTreeClassifier modle in   <coode>sklearn</code>\n"
      ]
    },
    {
      "cell_type": "code",
      "execution_count": null,
      "metadata": {
        "id": "3ZmMv57sl5pc"
      },
      "outputs": [],
      "source": [
        "from sklearn.tree import DecisionTreeClassifier\n",
        "from sklearn import tree"
      ]
    },
    {
      "cell_type": "markdown",
      "metadata": {
        "id": "pLFhMAr-l5pc"
      },
      "source": [
        "We create and train a tree with a max depth of  5\n"
      ]
    },
    {
      "cell_type": "code",
      "execution_count": null,
      "metadata": {
        "id": "YulNM_1xl5pc"
      },
      "outputs": [],
      "source": [
        "max_depth=5\n",
        "X_train, X_test, y_train, y_test = train_test_split( X, y, test_size=0.3, random_state=10)\n",
        "Tree = DecisionTreeClassifier(criterion=\"entropy\", max_depth = max_depth,random_state=10)\n",
        "Tree\n",
        "Tree.fit(X_train,y_train)"
      ]
    },
    {
      "cell_type": "markdown",
      "metadata": {
        "id": "fKkYvA_Ol5pc"
      },
      "source": [
        "Now we can predict using our test set:\n"
      ]
    },
    {
      "cell_type": "code",
      "execution_count": null,
      "metadata": {
        "id": "b-Mos02Ol5pc"
      },
      "outputs": [],
      "source": [
        "yhat = Tree.predict(X_test)\n",
        "yhat"
      ]
    },
    {
      "cell_type": "markdown",
      "metadata": {
        "id": "URvoUbdwl5pc"
      },
      "source": [
        "We see the test error is much larger than the training error:\n"
      ]
    },
    {
      "cell_type": "code",
      "execution_count": null,
      "metadata": {
        "id": "22_EGnQMl5pc"
      },
      "outputs": [],
      "source": [
        "get_accuracy(X_train, X_test, y_train, y_test,  Tree)"
      ]
    },
    {
      "cell_type": "markdown",
      "metadata": {
        "id": "amgtTN6-l5pd"
      },
      "source": [
        "We can plot the nodes of the tree:\n"
      ]
    },
    {
      "cell_type": "code",
      "execution_count": null,
      "metadata": {
        "id": "U60C1e7Jl5pd"
      },
      "outputs": [],
      "source": [
        "plot_tree(filename = \"tree.png\",model=Tree)"
      ]
    },
    {
      "cell_type": "markdown",
      "metadata": {
        "id": "M8kJ-RMAl5pd"
      },
      "source": [
        "We can repeat the process but sampling different data points from the same dataset.  We see the tree still suffers from overfitting; in addition, the new tree is entirely different.\n"
      ]
    },
    {
      "cell_type": "code",
      "execution_count": null,
      "metadata": {
        "id": "90S7xyBvl5pd"
      },
      "outputs": [],
      "source": [
        "X_train, X_test, y_train, y_test = train_test_split( X, y, test_size=0.3, random_state=5)\n",
        "Tree = DecisionTreeClassifier(criterion=\"entropy\", max_depth = max_depth,random_state=8)\n",
        "Tree.fit(X_train,y_train)\n",
        "print(get_accuracy(X_train, X_test, y_train, y_test,  Tree))\n",
        "plot_tree(filename = \"tree1.png\",model=Tree)"
      ]
    },
    {
      "cell_type": "markdown",
      "metadata": {
        "id": "MYGyfxvil5pd"
      },
      "source": [
        "<h2 id=\"evaluation\">Bagging  for classification with  Scikit-learn</h2>\n",
        "A Bagging classifier is an ensemble model that trains  base classifiers  on random subsets   of the original dataset  (Bootstrap Sampling by default), and then aggregate their individual predictions by voting. We import the module:\n"
      ]
    },
    {
      "cell_type": "code",
      "execution_count": null,
      "metadata": {
        "id": "zsHHBcXvl5pd"
      },
      "outputs": [],
      "source": [
        "from sklearn.ensemble import BaggingClassifier"
      ]
    },
    {
      "cell_type": "markdown",
      "metadata": {
        "id": "6JBtw3hHl5pd"
      },
      "source": [
        "Bagging improves models that suffer from overfitting; they do well on the training data, but they do not Generalize well. Decision Trees are a prime candidate for this reason, in addition, they are fast to train; We create a <code>BaggingClassifier</code> object,  with a Decision Tree as the <code>base_estimator</code>\n"
      ]
    },
    {
      "cell_type": "code",
      "execution_count": null,
      "metadata": {
        "id": "9nuFmml0l5pd"
      },
      "outputs": [],
      "source": [
        "Bag = BaggingClassifier(base_estimator=DecisionTreeClassifier(criterion=\"entropy\", max_depth = 4,random_state=2),n_estimators=30,random_state=0,bootstrap=True)"
      ]
    },
    {
      "cell_type": "markdown",
      "metadata": {
        "id": "gSSNY_4el5pd"
      },
      "source": [
        "We fit the model:\n"
      ]
    },
    {
      "cell_type": "code",
      "execution_count": null,
      "metadata": {
        "id": "b3gzAV0Rl5pd"
      },
      "outputs": [],
      "source": [
        "Bag.fit(X_train,y_train)"
      ]
    },
    {
      "cell_type": "markdown",
      "metadata": {
        "id": "nCuKxxKWl5pd"
      },
      "source": [
        "The method <code>predict</code>  aggregates the predictions by voting:\n"
      ]
    },
    {
      "cell_type": "code",
      "execution_count": null,
      "metadata": {
        "id": "mvHcIhe6l5pd"
      },
      "outputs": [],
      "source": [
        "Bag.predict(X_test)"
      ]
    },
    {
      "cell_type": "markdown",
      "metadata": {
        "id": "6IRo5au8l5pe"
      },
      "source": [
        "We see the training accuracy is slightly better but the test accuracy improves  dramatically:\n"
      ]
    },
    {
      "cell_type": "code",
      "execution_count": null,
      "metadata": {
        "id": "aDJ3HjQil5pe"
      },
      "outputs": [],
      "source": [
        "print(get_accuracy(X_train, X_test, y_train, y_test,  Bag))"
      ]
    },
    {
      "cell_type": "markdown",
      "metadata": {
        "id": "nrQ4aX6Kl5pe"
      },
      "source": [
        "Here we can see the impact of adding more estimators (Decision Trees) using in Bagging on the testing and training accuracy\n"
      ]
    },
    {
      "cell_type": "code",
      "execution_count": null,
      "metadata": {
        "id": "1ChlD8DVl5pe"
      },
      "outputs": [],
      "source": [
        "get_accuracy_bag(X, y, \"Customer Churn\")"
      ]
    },
    {
      "cell_type": "markdown",
      "metadata": {
        "id": "ubnNjAifl5pe"
      },
      "source": [
        "## Low Variance Example\n"
      ]
    },
    {
      "cell_type": "markdown",
      "metadata": {
        "id": "SptDpKtDl5pe"
      },
      "source": [
        "Bagging does not improve result if the model has low Variance i.e. does reasonably well on the test and training data. Consider the SVM; the accuracy on the tests data and training data are similar\n"
      ]
    },
    {
      "cell_type": "code",
      "execution_count": null,
      "metadata": {
        "id": "K5wEYzonl5pe"
      },
      "outputs": [],
      "source": [
        "from sklearn.svm import SVC\n",
        "\n",
        "clf=SVC(kernel='linear',gamma='scale')\n",
        "clf.fit(X_train, y_train)\n",
        "print(get_accuracy(X_train, X_test, y_train, y_test,  clf))"
      ]
    },
    {
      "cell_type": "markdown",
      "metadata": {
        "id": "hsjo0-6Ol5pe"
      },
      "source": [
        "Bagging the SVM does almost nothing:\n"
      ]
    },
    {
      "cell_type": "code",
      "execution_count": null,
      "metadata": {
        "id": "xE05oV9wl5pe"
      },
      "outputs": [],
      "source": [
        "Bag = BaggingClassifier(base_estimator=SVC(kernel='linear',gamma='scale'),n_estimators=10,random_state=0,bootstrap=True)\n",
        "Bag.fit(X_train,y_train)\n",
        "print(get_accuracy(X_train, X_test, y_train, y_test,  Bag))"
      ]
    },
    {
      "cell_type": "markdown",
      "metadata": {
        "id": "KhSsBQ2_l5pe"
      },
      "source": [
        "<h2 id=\"practice\">Practice: Cancer data</h2>\n",
        "\n",
        "The example is based on a dataset that is publicly available from the UCI Machine Learning Repository (Asuncion and Newman, 2007)[[http://mlearn.ics.uci.edu/MLRepository.html](http://mlearn.ics.uci.edu/MLRepository.html?utm_medium=Exinfluencer&utm_source=Exinfluencer&utm_content=000026UJ&utm_term=10006555&utm_id=NA-SkillsNetwork-Channel-SkillsNetworkCoursesIBMML241ENSkillsNetwork31576874-2022-01-01)]. The dataset consists of several hundred human cell sample records, each of which contains the values of a set of cell characteristics. The fields in each record are:\n",
        "\n",
        "| Field name  | Description                 |\n",
        "| ----------- | --------------------------- |\n",
        "| ID          | Clump thickness             |\n",
        "| Clump       | Clump thickness             |\n",
        "| UnifSize    | Uniformity of cell size     |\n",
        "| UnifShape   | Uniformity of cell shape    |\n",
        "| MargAdh     | Marginal adhesion           |\n",
        "| SingEpiSize | Single epithelial cell size |\n",
        "| BareNuc     | Bare nuclei                 |\n",
        "| BlandChrom  | Bland chromatin             |\n",
        "| NormNucl    | Normal nucleoli             |\n",
        "| Mit         | Mitoses                     |\n",
        "| Class       | Benign or malignant         |\n",
        "\n",
        "<br>\n",
        "<br>\n",
        "\n",
        "Let's load the dataset:\n"
      ]
    },
    {
      "cell_type": "code",
      "execution_count": null,
      "metadata": {
        "id": "_qtWqGtal5pe"
      },
      "outputs": [],
      "source": [
        "df = pd.read_csv(\"https://cf-courses-data.s3.us.cloud-object-storage.appdomain.cloud/IBMDeveloperSkillsNetwork-ML0101EN-SkillsNetwork/labs/Module%203/data/cell_samples.csv\")\n",
        "\n",
        "df.head()"
      ]
    },
    {
      "cell_type": "markdown",
      "metadata": {
        "id": "RYcKIuajl5pf"
      },
      "source": [
        "Now lets remove rows that have a ? in the `BareNuc` column\n"
      ]
    },
    {
      "cell_type": "code",
      "execution_count": null,
      "metadata": {
        "id": "TozVpov6l5pf"
      },
      "outputs": [],
      "source": [
        "df = df[df[\"BareNuc\"] != \"?\"]"
      ]
    },
    {
      "cell_type": "markdown",
      "metadata": {
        "id": "8DqrpWkdl5pf"
      },
      "source": [
        "Now lets define the X and y for our dataset\n"
      ]
    },
    {
      "cell_type": "code",
      "execution_count": null,
      "metadata": {
        "id": "g3MLV24Ol5pf"
      },
      "outputs": [],
      "source": [
        "X =  df[['Clump', 'UnifSize', 'UnifShape', 'MargAdh', 'SingEpiSize', 'BareNuc', 'BlandChrom', 'NormNucl', 'Mit']]\n",
        "\n",
        "X.head()"
      ]
    },
    {
      "cell_type": "code",
      "execution_count": null,
      "metadata": {
        "id": "6dfpOaB4l5pf"
      },
      "outputs": [],
      "source": [
        "y = df['Class']\n",
        "\n",
        "y.head()"
      ]
    },
    {
      "cell_type": "markdown",
      "metadata": {
        "id": "VemH_2ril5pf"
      },
      "source": [
        "Now lets split our data into training and testing data with a 80/20 split\n"
      ]
    },
    {
      "cell_type": "code",
      "execution_count": null,
      "metadata": {
        "id": "48Io4262l5pf"
      },
      "outputs": [],
      "source": [
        "X_train, X_test, y_train, y_test = train_test_split( X, y, test_size=0.2, random_state=4)\n",
        "print ('Train set:', X_train.shape,  y_train.shape)\n",
        "print ('Test set:', X_test.shape,  y_test.shape)"
      ]
    },
    {
      "cell_type": "markdown",
      "metadata": {
        "id": "-kP4kDYtl5pf"
      },
      "source": [
        "Now to determine the best parameters for `n_estimators` and the `max_depth` of the `base_estimator` we will use `GridSearchCV`\n"
      ]
    },
    {
      "cell_type": "code",
      "execution_count": null,
      "metadata": {
        "id": "MXo3Mbrjl5pf"
      },
      "outputs": [],
      "source": [
        "from sklearn.model_selection import GridSearchCV"
      ]
    },
    {
      "cell_type": "markdown",
      "metadata": {
        "id": "YRUdNQfel5pf"
      },
      "source": [
        "We can use GridSearch for Exhaustive search over specified parameter values. To  alter the base  model; we add the double underscore and the attribute value:\n",
        "\n",
        "Here we are searching odd numbers from 1 to 39 for `n_estimators` and odd numbers from 1 to 20 for `max_depth` in the `base_estimator`\n"
      ]
    },
    {
      "cell_type": "code",
      "execution_count": null,
      "metadata": {
        "id": "BkqD6wFZl5pf"
      },
      "outputs": [],
      "source": [
        "param_grid = {'n_estimators': [2*n+1 for n in range(20)],\n",
        "     'base_estimator__max_depth' : [2*n+1 for n in range(10) ] }"
      ]
    },
    {
      "cell_type": "markdown",
      "metadata": {
        "id": "zEFXyn5sl5pf"
      },
      "source": [
        "Create a `BaggingClassifier` object called `Bag` with the `base_estimator` set to a `DecisionTreeClassifier` object where `random_state` = 0 and `bootstrap` = True\n"
      ]
    },
    {
      "cell_type": "code",
      "execution_count": null,
      "metadata": {
        "id": "KF-e49oRl5pg"
      },
      "outputs": [],
      "source": []
    },
    {
      "cell_type": "markdown",
      "metadata": {
        "id": "KfvRhkp-l5pg"
      },
      "source": [
        "<details><summary>Click here for the solution</summary>\n",
        "\n",
        "```python\n",
        "Bag = BaggingClassifier(base_estimator = DecisionTreeClassifier(), random_state=0, bootstrap=True)\n",
        "```\n",
        "\n",
        "</details>\n"
      ]
    },
    {
      "cell_type": "markdown",
      "metadata": {
        "id": "wRMM9mADl5pg"
      },
      "source": [
        "Now we create a `GridSearchCV` object and search for the best parameters according to our `parameter_grid`\n"
      ]
    },
    {
      "cell_type": "code",
      "execution_count": null,
      "metadata": {
        "id": "1Fnu5t-Nl5pg"
      },
      "outputs": [],
      "source": [
        "search = GridSearchCV(estimator=Bag, param_grid=param_grid, scoring='accuracy', cv=3)"
      ]
    },
    {
      "cell_type": "code",
      "execution_count": null,
      "metadata": {
        "tags": [],
        "id": "Wnl-UEs8l5pg"
      },
      "outputs": [],
      "source": [
        "search.fit(X_train, y_train)"
      ]
    },
    {
      "cell_type": "markdown",
      "metadata": {
        "id": "ivNi0iNUl5pg"
      },
      "source": [
        "We can see the best accuracy score of the searched parameters was ~97%\n"
      ]
    },
    {
      "cell_type": "code",
      "execution_count": null,
      "metadata": {
        "id": "ZF21EhEel5pg"
      },
      "outputs": [],
      "source": [
        "search.best_score_"
      ]
    },
    {
      "cell_type": "markdown",
      "metadata": {
        "id": "UGn8iGO9l5pg"
      },
      "source": [
        "We can also see the parameters that resulted in the best score\n"
      ]
    },
    {
      "cell_type": "code",
      "execution_count": null,
      "metadata": {
        "id": "-qV6LLV2l5pg"
      },
      "outputs": [],
      "source": [
        "search.best_params_"
      ]
    },
    {
      "cell_type": "markdown",
      "metadata": {
        "id": "xFFsA-DOl5pg"
      },
      "source": [
        "And we can see the testing and training accuracy of the best estimator\n"
      ]
    },
    {
      "cell_type": "code",
      "execution_count": null,
      "metadata": {
        "id": "1-CWMpBrl5pg"
      },
      "outputs": [],
      "source": [
        "print(get_accuracy(X_train, X_test, y_train, y_test, search.best_estimator_))"
      ]
    },
    {
      "cell_type": "markdown",
      "metadata": {
        "id": "v8z9eACYl5pg"
      },
      "source": [
        "Below we can see a graph of testing and training accuracy holding the `max_depth` of the `base_estimator` at 10 and varying the number of estimators. We can see that it is extremely close to the accuracy of the `best_estimator` we found using `GridSearchCV`\n"
      ]
    },
    {
      "cell_type": "code",
      "execution_count": null,
      "metadata": {
        "id": "eq9T3Diwl5ph"
      },
      "outputs": [],
      "source": [
        "get_accuracy_bag(X, y, \"Cancer Data\")"
      ]
    },
    {
      "cell_type": "markdown",
      "metadata": {
        "id": "ycQp9teel5ph"
      },
      "source": [
        "<h2 id=\"practice\">Practice: During their course of treatment</h2>\n"
      ]
    },
    {
      "cell_type": "markdown",
      "metadata": {
        "id": "nsGpWzMml5ph"
      },
      "source": [
        "Imagine that you are a medical researcher compiling data for a study. You have collected data about a set of patients, all of whom suffered from the same illness. During their course of treatment, each patient responded to one of 5 medications, Drug A, Drug B, Drug c, Drug x and y.\n",
        "\n",
        "Part of your job is to build a model to find out which drug might be appropriate for a future patient with the same illness. The features of this dataset are Age, Sex, Blood Pressure, and the Cholesterol of the patients, and the target is the drug that each patient responded to.\n",
        "\n",
        "It is a sample of multiclass classifier, and you can use the training part of the dataset to build a decision tree, and then use it to predict the class of a unknown patient, or to prescribe a drug to a new patient.\n"
      ]
    },
    {
      "cell_type": "code",
      "execution_count": null,
      "metadata": {
        "id": "4ghL_NUIl5ph"
      },
      "outputs": [],
      "source": [
        "df = pd.read_csv(\"https://cf-courses-data.s3.us.cloud-object-storage.appdomain.cloud/IBMDeveloperSkillsNetwork-ML0101EN-SkillsNetwork/labs/Module%203/data/drug200.csv\", delimiter=\",\")\n",
        "df.head()"
      ]
    },
    {
      "cell_type": "markdown",
      "metadata": {
        "id": "O5-rrsNyl5ph"
      },
      "source": [
        "Lets create the X and y for our dataset\n"
      ]
    },
    {
      "cell_type": "code",
      "execution_count": null,
      "metadata": {
        "id": "GPYKbb7El5ph"
      },
      "outputs": [],
      "source": [
        "X = df[['Age', 'Sex', 'BP', 'Cholesterol', 'Na_to_K']].values\n",
        "X[0:5]"
      ]
    },
    {
      "cell_type": "code",
      "execution_count": null,
      "metadata": {
        "id": "fSpvsCa2l5ph"
      },
      "outputs": [],
      "source": [
        "y = df[\"Drug\"]\n",
        "y[0:5]"
      ]
    },
    {
      "cell_type": "markdown",
      "metadata": {
        "id": "vCQesU6Tl5ph"
      },
      "source": [
        "Now lets use a `LabelEncoder` to turn categorical features into numerical\n"
      ]
    },
    {
      "cell_type": "code",
      "execution_count": null,
      "metadata": {
        "id": "0kEmMoA6l5ph"
      },
      "outputs": [],
      "source": [
        "le_sex = preprocessing.LabelEncoder()\n",
        "le_sex.fit(['F','M'])\n",
        "X[:,1] = le_sex.transform(X[:,1])"
      ]
    },
    {
      "cell_type": "code",
      "execution_count": null,
      "metadata": {
        "id": "3V3pwSVxl5ph"
      },
      "outputs": [],
      "source": [
        "le_BP = preprocessing.LabelEncoder()\n",
        "le_BP.fit([ 'LOW', 'NORMAL', 'HIGH'])\n",
        "X[:,2] = le_BP.transform(X[:,2])"
      ]
    },
    {
      "cell_type": "code",
      "execution_count": null,
      "metadata": {
        "id": "j1BWfFhGl5ph"
      },
      "outputs": [],
      "source": [
        "le_Chol = preprocessing.LabelEncoder()\n",
        "le_Chol.fit([ 'NORMAL', 'HIGH'])\n",
        "X[:,3] = le_Chol.transform(X[:,3])"
      ]
    },
    {
      "cell_type": "code",
      "execution_count": null,
      "metadata": {
        "id": "rbabZz9jl5ph"
      },
      "outputs": [],
      "source": [
        "X[0:5]"
      ]
    },
    {
      "cell_type": "markdown",
      "metadata": {
        "id": "r6B6RS7Xl5pi"
      },
      "source": [
        "Split the data into training and testing data with a 80/20 split\n"
      ]
    },
    {
      "cell_type": "code",
      "execution_count": null,
      "metadata": {
        "id": "TxI72ayZl5pi"
      },
      "outputs": [],
      "source": [
        "X_train, X_test, y_train, y_test = train_test_split( X, y, test_size=0.2, random_state=4)\n",
        "print ('Train set:', X_train.shape,  y_train.shape)\n",
        "print ('Test set:', X_test.shape,  y_test.shape)"
      ]
    },
    {
      "cell_type": "markdown",
      "metadata": {
        "id": "GD0sDUw9l5pi"
      },
      "source": [
        "Using the same parameter grid as before\n"
      ]
    },
    {
      "cell_type": "code",
      "execution_count": null,
      "metadata": {
        "id": "lfFxXSzIl5pi"
      },
      "outputs": [],
      "source": [
        "param_grid = {'n_estimators': [2*n+1 for n in range(20)],\n",
        "     'base_estimator__max_depth' : [2*n+1 for n in range(10) ]}"
      ]
    },
    {
      "cell_type": "markdown",
      "metadata": {
        "id": "X6FZWPiJl5pi"
      },
      "source": [
        "Create a `BaggingClassifier` object called `Bag` with the `base_estimator` set to a `DecisionTreeClassifier` object where `random_state` = 0 and `bootstrap` = True\n"
      ]
    },
    {
      "cell_type": "code",
      "execution_count": null,
      "metadata": {
        "id": "9vgvbPGOl5pi"
      },
      "outputs": [],
      "source": [
        "# add your code below\n"
      ]
    },
    {
      "cell_type": "markdown",
      "metadata": {
        "id": "BU_ksp2kl5pi"
      },
      "source": [
        "<details><summary>Click here for the solution</summary>\n",
        "\n",
        "```python\n",
        "Bag = BaggingClassifier(base_estimator=DecisionTreeClassifier(),random_state=0,bootstrap=True)\n",
        "\n",
        "```\n",
        "\n",
        "</details>\n"
      ]
    },
    {
      "cell_type": "markdown",
      "metadata": {
        "id": "UtZdftYEl5pi"
      },
      "source": [
        "Create `GridSearchCV` object called `search` with the `estimator` set to `Bag`, `param_grid` set to `param_grid`, `scoring` set to `accuracy`, and `cv` set to 3.\n"
      ]
    },
    {
      "cell_type": "code",
      "execution_count": null,
      "metadata": {
        "id": "pjwECQTll5pi"
      },
      "outputs": [],
      "source": [
        "# add your code below"
      ]
    },
    {
      "cell_type": "markdown",
      "metadata": {
        "id": "8jM2YAI2l5pi"
      },
      "source": [
        "<details><summary>Click here for the solution</summary>\n",
        "\n",
        "```python\n",
        "search = GridSearchCV(estimator=Bag, param_grid=param_grid,scoring='accuracy', cv=3)\n",
        "\n",
        "```\n",
        "\n",
        "</details>\n"
      ]
    },
    {
      "cell_type": "markdown",
      "metadata": {
        "id": "e4iG8idvl5pi"
      },
      "source": [
        "Fit the `GridSearchCV` object to our `X_train` and `y_train` data\n"
      ]
    },
    {
      "cell_type": "code",
      "execution_count": null,
      "metadata": {
        "id": "eaCvT8Zyl5pi"
      },
      "outputs": [],
      "source": [
        "# add your code below\n"
      ]
    },
    {
      "cell_type": "markdown",
      "metadata": {
        "id": "MNis1G8Kl5pj"
      },
      "source": [
        "<details><summary>Click here for the solution</summary>\n",
        "\n",
        "```python\n",
        "search.fit(X_train, y_train)\n",
        "```\n",
        "\n",
        "</details>\n"
      ]
    },
    {
      "cell_type": "markdown",
      "metadata": {
        "id": "p_h3_iyKl5pj"
      },
      "source": [
        "After using `fit` we can see the best score and parameters\n"
      ]
    },
    {
      "cell_type": "code",
      "execution_count": null,
      "metadata": {
        "id": "gECM1rLnl5pj"
      },
      "outputs": [],
      "source": [
        "search.best_score_"
      ]
    },
    {
      "cell_type": "code",
      "execution_count": null,
      "metadata": {
        "id": "lYmVG6uRl5pj"
      },
      "outputs": [],
      "source": [
        "search.best_params_"
      ]
    },
    {
      "cell_type": "code",
      "execution_count": null,
      "metadata": {
        "id": "o0dmRZTZl5pj"
      },
      "outputs": [],
      "source": [
        "print(get_accuracy(X_train, X_test, y_train, y_test, search.best_estimator_))"
      ]
    },
    {
      "cell_type": "markdown",
      "metadata": {
        "id": "2aatseGOl5pj"
      },
      "source": [
        "Below we can see a graph of testing and training accuracy holding the max_depth of the base_estimator at 10 and varying the number of estimators. We can see that it is extremely close to the accuracy of the best_estimator we found using GridSearchCV\n"
      ]
    },
    {
      "cell_type": "code",
      "execution_count": null,
      "metadata": {
        "id": "wW47i4bkl5pj"
      },
      "outputs": [],
      "source": [
        "get_accuracy_bag(X, y, \"Drug Data\")"
      ]
    },
    {
      "cell_type": "markdown",
      "metadata": {
        "button": false,
        "new_sheet": false,
        "run_control": {
          "read_only": false
        },
        "id": "OOCrYzI5l5pj"
      },
      "source": [
        "<h2>Want to learn more?</h2>\n",
        "\n",
        "IBM SPSS Modeler is a comprehensive analytics platform that has many machine learning algorithms. It has been designed to bring predictive intelligence to decisions made by individuals, by groups, by systems – by your enterprise as a whole. A free trial is available through this course, available here: <a href=\"https://www.ibm.com/analytics/spss-statistics-software?utm_source=Exinfluencer&utm_content=000026UJ&utm_id=NA-SkillsNetwork-Channel-SkillsNetworkCoursesIBMDeveloperSkillsNetworkML0101ENSkillsNetwork20718538-2021-01-01&utm_medium=Exinfluencer&utm_term=10006555\">SPSS Modeler</a>\n",
        "\n",
        "Also, you can use Watson Studio to run these notebooks faster with bigger datasets. Watson Studio is IBM's leading cloud solution for data scientists, built by data scientists. With Jupyter notebooks, RStudio, Apache Spark and popular libraries pre-packaged in the cloud, Watson Studio enables data scientists to collaborate on their projects without having to install anything. Join the fast-growing community of Watson Studio users today with a free account at <a href=\"https://www.ibm.com/cloud/watson-studio?utm_source=Exinfluencer&utm_content=000026UJ&utm_id=NA-SkillsNetwork-Channel-SkillsNetworkCoursesIBMDeveloperSkillsNetworkML0101ENSkillsNetwork20718538-2021-01-01&utm_medium=Exinfluencer&utm_term=10006555\">Watson Studio</a>\n"
      ]
    },
    {
      "cell_type": "markdown",
      "metadata": {
        "id": "ZeU0Ioyll5pj"
      },
      "source": [
        "### Thank you for completing this lab!\n",
        "\n",
        "## Author\n",
        "\n",
        "<a href=\"https://www.linkedin.com/in/joseph-s-50398b136/?utm_medium=Exinfluencer&utm_source=Exinfluencer&utm_content=000026UJ&utm_term=10006555&utm_id=NA-SkillsNetwork-Channel-SkillsNetworkCoursesIBMDeveloperSkillsNetworkML0101ENSkillsNetwork20718538-2021-01-01\">Joseph Santarcangelo</a>\n",
        "\n",
        "## Other Contributors\n",
        "\n",
        "<a href=\"https://www.linkedin.com/in/richard-ye/?utm_medium=Exinfluencer&utm_source=Exinfluencer&utm_content=000026UJ&utm_term=10006555&utm_id=NA-SkillsNetwork-Channel-SkillsNetworkCoursesIBMDeveloperSkillsNetworkML0101ENSkillsNetwork20718538-2021-01-01\">Richard Ye</a>\n",
        "\n",
        "## Change Log\n",
        "\n",
        "| Date (YYYY-MM-DD) | Version | Changed By | Change Description |\n",
        "| ----------------- | ------- | ---------- | ------------------ |\n",
        "| 2022-01-19        | 0.1     | Joseph Santarcangelo | Created Lab Template |\n",
        "| 2022-05-03        | 0.2     | Richard Ye           | QA pass              |\n",
        "\n",
        "\n",
        "## <h3 align=\"center\"> © IBM Corporation 2020. All rights reserved. <h3/>\n"
      ]
    }
  ],
  "metadata": {
    "kernelspec": {
      "display_name": "Python",
      "language": "python",
      "name": "conda-env-python-py"
    },
    "language_info": {
      "name": ""
    },
    "colab": {
      "provenance": [],
      "include_colab_link": true
    }
  },
  "nbformat": 4,
  "nbformat_minor": 0
}