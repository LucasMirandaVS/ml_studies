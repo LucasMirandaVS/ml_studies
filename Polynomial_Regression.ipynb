{
  "cells": [
    {
      "cell_type": "markdown",
      "metadata": {
        "id": "view-in-github",
        "colab_type": "text"
      },
      "source": [
        "<a href=\"https://colab.research.google.com/github/LucasMirandaVS/ml_studies/blob/main/Polynomial_Regression.ipynb\" target=\"_parent\"><img src=\"https://colab.research.google.com/assets/colab-badge.svg\" alt=\"Open In Colab\"/></a>"
      ]
    },
    {
      "cell_type": "markdown",
      "metadata": {
        "id": "SlA3vfwuyyDk"
      },
      "source": [
        "# Polynomial Regression\n",
        "\n",
        "\n",
        "Estimated time needed: **40** minutes\n",
        "\n",
        "What if your data is more complex than a straight line? Surprisingly, you can use a linear model to fit nonlinear data. A simple way to do this is to add powers of each feature as new features, then train a linear model on this extended set of features. This technique is called Polynomial Regression.\n",
        "\n",
        "There are two factors when determining model performance: overfitting and underfitting. Overfitting is when the model is too complex and does well on the training data but not on the test data. Underfitting is when the model is too simple and performs poorly on the training and testing data sets.\n",
        "\n",
        "Overfitting is simple to deal with, using methods like regularization, which we will discuss in the next lab. To deal with underfitting, we can build a more complex model using methods like polynomial regression. If making a more complex model does not work, this may involve using more data to train the model on or obtaining new features. As this process is complex, it's better to determine if the model can overfit the data first. Therefore, in this section, we will use Polynomial Regression to overfit the data to determine if we have an adequate amount of data.\n",
        "\n",
        "In this notebook, we will explore Polynomial Regression and perform polynomial transform using individual features as well as multiple features.\n",
        "\n",
        "\n",
        "## Objectives\n",
        "\n",
        "After completing this lab you will be able to:\n",
        "\n",
        "*   Understand the concept of  overfitting versus underfitting\n",
        "*   Apply polynomial transforms to data\n",
        "*   Perform  hyperparameters grid search on a model, using validation data\n",
        "\n"
      ]
    },
    {
      "cell_type": "markdown",
      "metadata": {
        "id": "vkTsB8BvyyDl"
      },
      "source": [
        "***\n"
      ]
    },
    {
      "cell_type": "markdown",
      "metadata": {
        "id": "hw8UzHTKyyDl"
      },
      "source": [
        "## **Setup**\n"
      ]
    },
    {
      "cell_type": "markdown",
      "metadata": {
        "id": "YlNm0te-yyDl"
      },
      "source": [
        "For this lab, we will be using the following libraries:\n",
        " - [`pandas`](https://pandas.pydata.org/?utm_medium=Exinfluencer&utm_source=Exinfluencer&utm_content=000026UJ&utm_term=10006555&utm_id=NA-SkillsNetwork-Channel-SkillsNetworkCoursesIBMML240ENSkillsNetwork783-2023-01-01) for managing the data.\n",
        " - [`numpy`](https://numpy.org/?utm_medium=Exinfluencer&utm_source=Exinfluencer&utm_content=000026UJ&utm_term=10006555&utm_id=NA-SkillsNetwork-Channel-SkillsNetworkCoursesIBMML240ENSkillsNetwork783-2023-01-01) for mathematical operations.\n",
        " - [`seaborn`](https://seaborn.pydata.org/?utm_medium=Exinfluencer&utm_source=Exinfluencer&utm_content=000026UJ&utm_term=10006555&utm_id=NA-SkillsNetwork-Channel-SkillsNetworkCoursesIBMML240ENSkillsNetwork783-2023-01-01) for visualizing the data.\n",
        " - [`matplotlib`](https://matplotlib.org/?utm_medium=Exinfluencer&utm_source=Exinfluencer&utm_content=000026UJ&utm_term=10006555&utm_id=NA-SkillsNetwork-Channel-SkillsNetworkCoursesIBMML240ENSkillsNetwork783-2023-01-01) for visualizing the data.\n",
        " - [`sklearn`](https://scikit-learn.org/stable/?utm_medium=Exinfluencer&utm_source=Exinfluencer&utm_content=000026UJ&utm_term=10006555&utm_id=NA-SkillsNetwork-Channel-SkillsNetworkCoursesIBMML240ENSkillsNetwork783-2023-01-01) for machine learning and machine-learning-pipeline related functions.\n",
        " - [`scipy`](https://docs.scipy.org/doc/scipy/tutorial/stats.html/?utm_medium=Exinfluencer&utm_source=Exinfluencer&utm_content=000026UJ&utm_term=10006555&utm_id=NA-SkillsNetwork-Channel-SkillsNetworkCoursesIBMML240ENSkillsNetwork783-2023-01-01) for statistical computations.\n"
      ]
    },
    {
      "cell_type": "markdown",
      "metadata": {
        "id": "cCAPjy32yyDl"
      },
      "source": [
        "## **Import the required libraries**\n"
      ]
    },
    {
      "cell_type": "markdown",
      "metadata": {
        "id": "7rvV1eqiyyDm"
      },
      "source": [
        "The following required modules are pre-installed in the Skills Network Labs environment. However, if you run this notebook commands in a different Jupyter environment (e.g. Watson Studio or Ananconda), you will need to install these libraries by removing the `#` sign before `!mamba` in the code cell below.\n"
      ]
    },
    {
      "cell_type": "code",
      "execution_count": null,
      "metadata": {
        "id": "hDf-YSb2yyDm"
      },
      "outputs": [],
      "source": [
        "# All Libraries required for this lab are listed below. The libraries pre-installed on Skills Network Labs are commented.\n",
        "# !mamba install -qy pandas==1.3.4 numpy==1.21.4 seaborn==0.9.0 matplotlib==3.5.0 scikit-learn==0.20.1\n",
        "# Note: If your environment doesn't support \"!mamba install\", use \"!pip install\""
      ]
    },
    {
      "cell_type": "code",
      "execution_count": null,
      "metadata": {
        "id": "bGFS0BJXyyDn"
      },
      "outputs": [],
      "source": [
        "#!pip install -U scikit-learn"
      ]
    },
    {
      "cell_type": "code",
      "execution_count": null,
      "metadata": {
        "id": "Mhxf0IFYyyDn"
      },
      "outputs": [],
      "source": [
        "# Surpress warnings:\n",
        "def warn(*args, **kwargs):\n",
        "    pass\n",
        "import warnings\n",
        "warnings.warn = warn\n"
      ]
    },
    {
      "cell_type": "code",
      "execution_count": null,
      "metadata": {
        "id": "a5UeLPmuyyDn"
      },
      "outputs": [],
      "source": [
        "import pandas as pd\n",
        "import numpy as np\n",
        "\n",
        "import seaborn as sns\n",
        "import matplotlib.pylab as plt\n",
        "%matplotlib inline\n",
        "\n",
        "from sklearn.model_selection import train_test_split\n",
        "from sklearn.linear_model import LinearRegression\n",
        "from sklearn.metrics import r2_score\n",
        "from sklearn.preprocessing import PolynomialFeatures\n",
        "from sklearn.metrics import mean_squared_error\n",
        "from sklearn.preprocessing import scale\n",
        "from sklearn.preprocessing import StandardScaler\n",
        "from sklearn.preprocessing import MinMaxScaler\n",
        "from sklearn.feature_selection import SelectKBest, f_regression\n",
        "from sklearn.pipeline import Pipeline\n",
        "from sklearn.model_selection import GridSearchCV"
      ]
    },
    {
      "cell_type": "markdown",
      "metadata": {
        "id": "C-flv_43yyDo"
      },
      "source": [
        "The function below will calculate the $R^{2}$ on each feature given the a input model.\n"
      ]
    },
    {
      "cell_type": "code",
      "execution_count": null,
      "metadata": {
        "id": "0J0dKSq3yyDo"
      },
      "outputs": [],
      "source": [
        "def get_R2_features(model,test=True):\n",
        "    #X: global\n",
        "    features=list(X)\n",
        "    features.remove(\"three\")\n",
        "\n",
        "    R_2_train=[]\n",
        "    R_2_test=[]\n",
        "\n",
        "    for feature in features:\n",
        "        model.fit(X_train[[feature]],y_train)\n",
        "\n",
        "        R_2_test.append(model.score(X_test[[feature]],y_test))\n",
        "        R_2_train.append(model.score(X_train[[feature]],y_train))\n",
        "\n",
        "    plt.bar(features,R_2_train,label=\"Train\")\n",
        "    plt.bar(features,R_2_test,label=\"Test\")\n",
        "    plt.xticks(rotation=90)\n",
        "    plt.ylabel(\"$R^2$\")\n",
        "    plt.legend()\n",
        "    plt.show()\n",
        "    print(\"Training R^2 mean value {} Testing R^2 mean value {} \".format(str(np.mean(R_2_train)),str(np.mean(R_2_test))) )\n",
        "    print(\"Training R^2 max value {} Testing R^2 max value {} \".format(str(np.max(R_2_train)),str(np.max(R_2_test))) )"
      ]
    },
    {
      "cell_type": "markdown",
      "metadata": {
        "id": "HY0m-qjbyyDo"
      },
      "source": [
        "The function below will plot the distribution of two inputs.\n"
      ]
    },
    {
      "cell_type": "code",
      "execution_count": null,
      "metadata": {
        "id": "2UiVa0GgyyDo"
      },
      "outputs": [],
      "source": [
        "def  plot_dis(y,yhat):\n",
        "\n",
        "    plt.figure()\n",
        "    ax1 = sns.distplot(y, hist=False, color=\"r\", label=\"Actual Value\")\n",
        "    sns.distplot(yhat, hist=False, color=\"b\", label=\"Fitted Values\" , ax=ax1)\n",
        "    plt.legend()\n",
        "\n",
        "    plt.title('Actual vs Fitted Values')\n",
        "    plt.xlabel('Price (in dollars)')\n",
        "    plt.ylabel('Proportion of Cars')\n",
        "\n",
        "    plt.show()\n",
        "    plt.close()"
      ]
    },
    {
      "cell_type": "markdown",
      "metadata": {
        "id": "wmkfEJqAyyDo"
      },
      "source": [
        "## **Reading and understanding our data**\n"
      ]
    },
    {
      "cell_type": "markdown",
      "metadata": {
        "id": "2BWV7kR5yyDo"
      },
      "source": [
        "For this lab, we will be using the car sales dataset, hosted on IBM Cloud object storage. This dataset can also be found and downloaded from [kaggle.com](https://www.kaggle.com/datasets/goyalshalini93/car-data?utm_medium=Exinfluencer&utm_source=Exinfluencer&utm_content=000026UJ&utm_term=10006555&utm_id=NA-SkillsNetwork-Channel-SkillsNetworkCoursesIBMML240ENSkillsNetwork783-2023-01-01), an open public data source.\n",
        "The dataset contains all the information about cars, a name of a manufacturer, all car's technical parameters and a sale price of a car.\n",
        "\n",
        "This dataset has already been pre-cleaned and encoded (using one-hot and label encoders) in the Linear Regression Notebook.\n"
      ]
    },
    {
      "cell_type": "markdown",
      "metadata": {
        "id": "Jif9EY2dyyDp"
      },
      "source": [
        "Let's read the data into *pandas* data frame and look at the first 5 rows using the `head()` method.\n"
      ]
    },
    {
      "cell_type": "code",
      "execution_count": null,
      "metadata": {
        "id": "YXFf8izryyDp"
      },
      "outputs": [],
      "source": [
        "data = pd.read_csv('https://cf-courses-data.s3.us.cloud-object-storage.appdomain.cloud/IBM-ML240EN-SkillsNetwork/labs/encoded_car_data.csv')\n",
        "data.head()"
      ]
    },
    {
      "cell_type": "markdown",
      "metadata": {
        "id": "gPqJoPL3yyDp"
      },
      "source": [
        "We can find more information about the features and types using the `info()`  method.\n"
      ]
    },
    {
      "cell_type": "code",
      "execution_count": null,
      "metadata": {
        "id": "9unvxuHlyyDp"
      },
      "outputs": [],
      "source": [
        "data.info()"
      ]
    },
    {
      "cell_type": "markdown",
      "metadata": {
        "id": "7MmwJUNhyyDp"
      },
      "source": [
        "We have 35 features in our dataset after the one hot encoding.\n",
        "\n",
        "Before we begin our polynomial analysis, let's visualize some of the relationships between our features and the target variable, 'price'.\n"
      ]
    },
    {
      "cell_type": "code",
      "execution_count": null,
      "metadata": {
        "id": "1UoNomMGyyDp"
      },
      "outputs": [],
      "source": [
        "sns.lmplot(x = 'curbweight', y = 'price', data = data, order=2)"
      ]
    },
    {
      "cell_type": "code",
      "execution_count": null,
      "metadata": {
        "id": "52x9q2t9yyDp"
      },
      "outputs": [],
      "source": [
        "sns.lmplot(x = 'carlength', y = 'price', data = data, order=2)"
      ]
    },
    {
      "cell_type": "markdown",
      "metadata": {
        "id": "8AYLJTfnyyDp"
      },
      "source": [
        "The relationship is more curved.\n"
      ]
    },
    {
      "cell_type": "markdown",
      "metadata": {
        "id": "Xx6SnG5RyyDp"
      },
      "source": [
        "## Exercise 1\n",
        "In this Exercise, visualize the relationship between the 'horsepower' and the target variable, 'price'.\n"
      ]
    },
    {
      "cell_type": "code",
      "execution_count": null,
      "metadata": {
        "id": "TR_tuVWWyyDq"
      },
      "outputs": [],
      "source": [
        "# Enter your code and run the cell\n"
      ]
    },
    {
      "cell_type": "markdown",
      "metadata": {
        "id": "f9uIkDDCyyDq"
      },
      "source": [
        "<details>\n",
        "<summary><strong>Solution</strong> (Click Here)</summary>\n",
        "```python\n",
        "    \n",
        "sns.lmplot(x = 'horsepower', y = 'price', data = data, order=2)\n",
        "    \n",
        "```\n",
        "</details>\n"
      ]
    },
    {
      "cell_type": "markdown",
      "metadata": {
        "id": "WpJBdFpXyyDq"
      },
      "source": [
        "## Data Preparation\n",
        "\n",
        "Let's first split our data into ```X``` features and ```y``` target.\n"
      ]
    },
    {
      "cell_type": "code",
      "execution_count": null,
      "metadata": {
        "id": "i9JZnH2IyyDq"
      },
      "outputs": [],
      "source": [
        "X = data.drop('price', axis=1)\n",
        "y = data.price"
      ]
    },
    {
      "cell_type": "markdown",
      "metadata": {
        "id": "IhQbaxxNyyDq"
      },
      "source": [
        "## Train Test Split\n"
      ]
    },
    {
      "cell_type": "markdown",
      "metadata": {
        "id": "jBwbaXpuyyDq"
      },
      "source": [
        "Now that we have split our data into training and testing sets, the training data is used for your model to recognize patterns using some criteria,the test data set it used to evaluate your model, as shown in the following image:\n"
      ]
    },
    {
      "cell_type": "markdown",
      "metadata": {
        "id": "deNqQgYxyyDq"
      },
      "source": [
        "<center>\n",
        "    <img src=\"https://cf-courses-data.s3.us.cloud-object-storage.appdomain.cloud/IBM-ML240EN-SkillsNetwork/images/trin-test.png\">\n",
        "</center>\n",
        "<center>source scikit-learn.org</center>\n"
      ]
    },
    {
      "cell_type": "markdown",
      "metadata": {
        "id": "wb-jLDG6yyDq"
      },
      "source": [
        "Now, we split our data, using <code>train_test_split</code> function, into the training and testing sets, allocating 30% of the data for testing.\n"
      ]
    },
    {
      "cell_type": "code",
      "execution_count": null,
      "metadata": {
        "id": "75R-xMqXyyDq"
      },
      "outputs": [],
      "source": [
        "X_train, X_test, y_train, y_test = train_test_split(X,y, test_size=0.3, random_state=42)\n",
        "print(\"Number of test samples:\", X_test.shape[0])\n",
        "print(\"Number of training samples:\", X_train.shape[0])\n"
      ]
    },
    {
      "cell_type": "markdown",
      "metadata": {
        "id": "FMi4VXrAyyDr"
      },
      "source": [
        "### Multiple Features\n"
      ]
    },
    {
      "cell_type": "markdown",
      "metadata": {
        "id": "UvHHXSGNyyDr"
      },
      "source": [
        "Let's create a <code>LinearRegression</code> object, called `lm`.\n"
      ]
    },
    {
      "cell_type": "code",
      "execution_count": null,
      "metadata": {
        "id": "QKzuAugRyyDr"
      },
      "outputs": [],
      "source": [
        "lm = LinearRegression()"
      ]
    },
    {
      "cell_type": "markdown",
      "metadata": {
        "id": "Az7uIc_ByyDr"
      },
      "source": [
        "Now, let's fit the model with multiple features on our X_train and y_train data.\n"
      ]
    },
    {
      "cell_type": "code",
      "execution_count": null,
      "metadata": {
        "id": "4HX9mgJYyyDy"
      },
      "outputs": [],
      "source": [
        "lm.fit(X_train, y_train)"
      ]
    },
    {
      "cell_type": "markdown",
      "metadata": {
        "id": "PaqCSV_lyyDy"
      },
      "source": [
        "We apply `predict(`) function on the testing data set.\n"
      ]
    },
    {
      "cell_type": "code",
      "execution_count": null,
      "metadata": {
        "id": "fLRVUaZuyyDy"
      },
      "outputs": [],
      "source": [
        "predicted = lm.predict(X_test)"
      ]
    },
    {
      "cell_type": "markdown",
      "metadata": {
        "id": "r7IVurHuyyDy"
      },
      "source": [
        "Let's calculate the `r2_score()` on both, training and testing data sets.\n"
      ]
    },
    {
      "cell_type": "code",
      "execution_count": null,
      "metadata": {
        "id": "0mIIz4fzyyDz"
      },
      "outputs": [],
      "source": [
        "print(\"R^2 on training  data \",lm.score(X_train, y_train))\n",
        "print(\"R^2 on testing data \",lm.score(X_test,y_test))"
      ]
    },
    {
      "cell_type": "markdown",
      "metadata": {
        "id": "vKHwlYCJyyDz"
      },
      "source": [
        "We can plot distributions of the predicted values versus the actual values.\n"
      ]
    },
    {
      "cell_type": "code",
      "execution_count": null,
      "metadata": {
        "id": "jUgWPCifyyDz"
      },
      "outputs": [],
      "source": [
        "plot_dis(y_test,predicted)"
      ]
    },
    {
      "cell_type": "markdown",
      "metadata": {
        "id": "InwwqEixyyDz"
      },
      "source": [
        "Below, we will view the estimated coefficients for the linear regression problem.\n"
      ]
    },
    {
      "cell_type": "code",
      "execution_count": null,
      "metadata": {
        "id": "nVecvZxhyyDz"
      },
      "outputs": [],
      "source": [
        "{col:coef for col,coef in zip(X.columns, lm.coef_)}"
      ]
    },
    {
      "cell_type": "markdown",
      "metadata": {
        "id": "qZpprJ0HyyDz"
      },
      "source": [
        "As we see, the first two coefficients are too large to plot, so we'll drop them and plot the rest of the coefficients.\n"
      ]
    },
    {
      "cell_type": "code",
      "execution_count": null,
      "metadata": {
        "id": "ocnxkHwWyyDz"
      },
      "outputs": [],
      "source": [
        "plt.bar(X.columns[2:],abs(lm.coef_[2:]))\n",
        "plt.xticks(rotation=90)\n",
        "plt.ylabel(\"$coefficients$\")\n",
        "plt.show()"
      ]
    },
    {
      "cell_type": "markdown",
      "metadata": {
        "id": "JNnFl2w3yyDz"
      },
      "source": [
        "Usually, we can interpret the lager coefficients as having more importance on the prediction, but this is not always the case, so let's look at the individual features.\n"
      ]
    },
    {
      "cell_type": "markdown",
      "metadata": {
        "id": "hJhO_OMdyyDz"
      },
      "source": [
        "### Individual Features\n"
      ]
    },
    {
      "cell_type": "markdown",
      "metadata": {
        "id": "X8cmOgzLyyDz"
      },
      "source": [
        "We can train the model and plot our $R^2$ for each of the features on the training and testing data sets, using the function <code>get_R2_features</code>.\n"
      ]
    },
    {
      "cell_type": "code",
      "execution_count": null,
      "metadata": {
        "id": "0MitBDfkyyD0"
      },
      "outputs": [],
      "source": [
        "get_R2_features(lm)"
      ]
    },
    {
      "cell_type": "markdown",
      "metadata": {
        "id": "aVgPnlvpyyD0"
      },
      "source": [
        "From the above plot, we see that some individual features perform similarly to  using all the features (we removed the feature ```three``` ), in  addition, we see that smaller coefficients seem to correspond to a larger $R^{2}$, therefore  larger coefficients correspond to overfiting.\n"
      ]
    },
    {
      "cell_type": "markdown",
      "metadata": {
        "id": "FKtywSfmyyD0"
      },
      "source": [
        "## Exercise 2\n",
        "In this Exercise, calculate the $R^2$ using the object Pipeline for  Linear Regression and apply ```StandardScaler()``` to all features, then use the function ```plot_dis``` to compare the predicted values versus the actual values.\n"
      ]
    },
    {
      "cell_type": "code",
      "execution_count": null,
      "metadata": {
        "id": "HMsxmy6zyyD0"
      },
      "outputs": [],
      "source": [
        "# Enter your code and run the cell\n"
      ]
    },
    {
      "cell_type": "markdown",
      "metadata": {
        "id": "Jno07rpRyyD0"
      },
      "source": [
        "<details>\n",
        "<summary><strong>Solution</strong> (Click Here)</summary>\n",
        " ```python\n",
        "    \n",
        "pipe = Pipeline([('ss',StandardScaler() ),('lr', LinearRegression())])\n",
        "pipe.fit(X_train,y_train)\n",
        "print(\"R^2 on training  data \", pipe.score(X_train, y_train))\n",
        "print(\"R^2 on testing data \", pipe.score(X_test,y_test))\n",
        "predicted = pipe.predict(X_test)\n",
        "plot_dis(y_test,predicted)\n",
        "    \n",
        "```\n",
        "</details>\n"
      ]
    },
    {
      "cell_type": "markdown",
      "metadata": {
        "id": "WZGLjUKiyyD0"
      },
      "source": [
        "## Exercise 3\n",
        "In this Exercise, calculate the $R^2$ using the object Pipeline with  ```StandardScaler()``` for each individual features using the function ```get_R2_features```.\n"
      ]
    },
    {
      "cell_type": "code",
      "execution_count": null,
      "metadata": {
        "id": "H5HWlGj1yyD0"
      },
      "outputs": [],
      "source": [
        "# Enter your code and run the cell\n"
      ]
    },
    {
      "cell_type": "markdown",
      "metadata": {
        "id": "BXxy_TlmyyD0"
      },
      "source": [
        "<details>\n",
        "<summary><strong>Solution</strong> (Click Here)</summary>\n",
        "```python\n",
        "    \n",
        "pipe = Pipeline([('ss',StandardScaler() ),('lr', LinearRegression())])\n",
        "get_R2_features(pipe)\n",
        "    \n",
        "```\n",
        "</details>\n"
      ]
    },
    {
      "cell_type": "markdown",
      "metadata": {
        "id": "lVBFLI_ayyD0"
      },
      "source": [
        "## Polynomial Features\n"
      ]
    },
    {
      "cell_type": "markdown",
      "metadata": {
        "id": "xSS94ct9yyD1"
      },
      "source": [
        "### Multiple Features\n"
      ]
    },
    {
      "cell_type": "markdown",
      "metadata": {
        "id": "u8OS8SMpyyD1"
      },
      "source": [
        "Polynomial transform is a simple way to increase the complexity of the model, but we must be mindful of overfilling.\n",
        "Below, we will perform a second degree (degree=2) polynomial transformation.\n"
      ]
    },
    {
      "cell_type": "code",
      "execution_count": null,
      "metadata": {
        "id": "ozp7GeLlyyD1"
      },
      "outputs": [],
      "source": [
        "poly_features = PolynomialFeatures(degree=2, include_bias=False)"
      ]
    },
    {
      "cell_type": "markdown",
      "metadata": {
        "id": "SV7LXQp_yyD1"
      },
      "source": [
        "Now, we transform the training and testing data sets.\n"
      ]
    },
    {
      "cell_type": "code",
      "execution_count": null,
      "metadata": {
        "id": "Sa5bcf1_yyD1"
      },
      "outputs": [],
      "source": [
        "X_train_poly = poly_features.fit_transform(X_train)\n",
        "X_test_poly = poly_features.transform(X_test)"
      ]
    },
    {
      "cell_type": "markdown",
      "metadata": {
        "id": "F9erKWcLyyD1"
      },
      "source": [
        "`X_train_poly` and `X_test_poly` now contain the original features of X plus the square of these features and the cross-terms combination.\n",
        "Let's check the shape of the newly created train and test sets.\n"
      ]
    },
    {
      "cell_type": "code",
      "execution_count": null,
      "metadata": {
        "id": "NBeMt2bvyyD1"
      },
      "outputs": [],
      "source": [
        "print(X_train_poly.shape)\n"
      ]
    },
    {
      "cell_type": "code",
      "execution_count": null,
      "metadata": {
        "id": "mBL9NMRhyyD1"
      },
      "outputs": [],
      "source": [
        "print(X_test_poly.shape)"
      ]
    },
    {
      "cell_type": "markdown",
      "metadata": {
        "id": "wwkP7K_GyyD2"
      },
      "source": [
        "Altogether, we have 665 features. Now, we fit the model with the newly created features.\n"
      ]
    },
    {
      "cell_type": "code",
      "execution_count": null,
      "metadata": {
        "id": "jqXCQE62yyD2"
      },
      "outputs": [],
      "source": [
        "lm = LinearRegression()\n",
        "lm.fit(X_train_poly, y_train)"
      ]
    },
    {
      "cell_type": "markdown",
      "metadata": {
        "id": "4c13ds_GyyD2"
      },
      "source": [
        "And we make predictions.\n"
      ]
    },
    {
      "cell_type": "code",
      "execution_count": null,
      "metadata": {
        "id": "An73E0OpyyD2"
      },
      "outputs": [],
      "source": [
        "predicted = lm.predict(X_train_poly)"
      ]
    },
    {
      "cell_type": "markdown",
      "metadata": {
        "id": "vDojPV8vyyD2"
      },
      "source": [
        "Again, we can ckeck the `r2_score()` on both, training and testing data sets.\n"
      ]
    },
    {
      "cell_type": "code",
      "execution_count": null,
      "metadata": {
        "id": "fJXgr01ayyD2"
      },
      "outputs": [],
      "source": [
        "print(\"R^2 on training data:\", lm.score(X_train_poly, y_train))\n",
        "print(\"R^2 on testing data:\", lm.score(X_test_poly,y_test))"
      ]
    },
    {
      "cell_type": "markdown",
      "metadata": {
        "id": "khjgLwH6yyD2"
      },
      "source": [
        "We see the model has a negative $R^{2}$ on the test data set, this is sign of overfiting.\n"
      ]
    },
    {
      "cell_type": "markdown",
      "metadata": {
        "id": "u3UTnMHDyyD2"
      },
      "source": [
        "### Individual Features\n"
      ]
    },
    {
      "cell_type": "markdown",
      "metadata": {
        "id": "HBk0KiqMyyD2"
      },
      "source": [
        "<p>Data Pipelines simplify the steps of processing the data. We use the module <code>Pipeline</code> to create a pipeline. We also use <code>PolynomialFeatures</code> as a step in our pipeline.</p>\n"
      ]
    },
    {
      "cell_type": "code",
      "execution_count": null,
      "metadata": {
        "id": "CXzPDz5UyyD3"
      },
      "outputs": [],
      "source": [
        "Input=[ ('polynomial', PolynomialFeatures(include_bias=False,degree=2)), ('model', LinearRegression())]"
      ]
    },
    {
      "cell_type": "markdown",
      "metadata": {
        "id": "3BNiMeajyyD3"
      },
      "source": [
        "We can repeat the steps above, using the <code>Pipleine</code> object.\n"
      ]
    },
    {
      "cell_type": "code",
      "execution_count": null,
      "metadata": {
        "id": "gxgQv6H4yyD3"
      },
      "outputs": [],
      "source": [
        "pipe=Pipeline(Input)\n",
        "pipe.fit(X_train, y_train)"
      ]
    },
    {
      "cell_type": "markdown",
      "metadata": {
        "id": "ev33rNlLyyD3"
      },
      "source": [
        "We can see the results are identical.\n"
      ]
    },
    {
      "cell_type": "code",
      "execution_count": null,
      "metadata": {
        "id": "7VI_R1S2yyD3"
      },
      "outputs": [],
      "source": [
        "print(\"R^2 on training  data:\", pipe.score(X_train, y_train))\n",
        "print(\"R^2 on testing data:\", pipe.score(X_test,y_test))"
      ]
    },
    {
      "cell_type": "markdown",
      "metadata": {
        "id": "jhXt8LN9yyD3"
      },
      "source": [
        "We can train our model on each of the features using the Polynomial Feature transform of the second degree. Then we can plot our $R^2$.\n"
      ]
    },
    {
      "cell_type": "code",
      "execution_count": null,
      "metadata": {
        "id": "Mh-_S7cqyyD3"
      },
      "outputs": [],
      "source": [
        "get_R2_features(pipe)"
      ]
    },
    {
      "cell_type": "markdown",
      "metadata": {
        "id": "_VBf1duyyyD3"
      },
      "source": [
        "Feature with the max $R^{2}$ is higher than when using all the features.\n"
      ]
    },
    {
      "cell_type": "markdown",
      "metadata": {
        "id": "Hm5JuhYZyyD3"
      },
      "source": [
        "## GridSearch and  Pipeline\n"
      ]
    },
    {
      "cell_type": "markdown",
      "metadata": {
        "id": "BmYXtDQ6yyD3"
      },
      "source": [
        "In this section of the notebook, we will define a pipeline object, then use GridSearch to find the best hyper-parameters of the model by using  cross-validation method of the  parameter grid, as shown in the figure below. A 5-fold cross validation is used by default. We will learn more about k-fold cross validation in the next, Cross Validation lesson of the Course.\n"
      ]
    },
    {
      "cell_type": "markdown",
      "metadata": {
        "id": "MYR6qOmbyyD4"
      },
      "source": [
        "<center>\n",
        "    <img src=\"https://cf-courses-data.s3.us.cloud-object-storage.appdomain.cloud/IBM-ML240EN-SkillsNetwork/images/k-fold.png\">\n",
        "</center>\n",
        "<center>source scikit-learn.org</center>\n"
      ]
    },
    {
      "cell_type": "markdown",
      "metadata": {
        "id": "ZCokLBszyyD4"
      },
      "source": [
        "We create `PolynomialFeatures()` pipeline.\n"
      ]
    },
    {
      "cell_type": "code",
      "execution_count": null,
      "metadata": {
        "id": "lW42AtZXyyD4"
      },
      "outputs": [],
      "source": [
        "Input=[ ('polynomial', PolynomialFeatures(include_bias=False,degree=2)), ('model',LinearRegression())]\n",
        "pipe=Pipeline(Input)"
      ]
    },
    {
      "cell_type": "markdown",
      "metadata": {
        "id": "ZZ4Nt9iVyyD4"
      },
      "source": [
        "To search for the best combination of hyperparameters, we create a  <b>GridSearchCV</b> object with dictionary of parameter values. The parameters of pipelines can be set using the name of the key separated by\n",
        "'__', then the parameter name of the key.\n"
      ]
    },
    {
      "cell_type": "code",
      "execution_count": null,
      "metadata": {
        "id": "pRWwZfykyyD4"
      },
      "outputs": [],
      "source": [
        "param_grid = {\n",
        "    \"polynomial__degree\": [1, 2, 3],\n",
        "    \"model__normalize\":[True, False]\n",
        "\n",
        "}"
      ]
    },
    {
      "cell_type": "markdown",
      "metadata": {
        "id": "HJf6_SIDyyD4"
      },
      "source": [
        "<b>polynomial__degree</b>: is the degree of the polynomial.\n",
        "\n",
        "<b>model__normalize</b> This parameter is ignored when fit_intercept is set to False. If True, the regressors X will be normalized before regression by subtracting the mean and dividing by the l2-norm.\n"
      ]
    },
    {
      "cell_type": "markdown",
      "metadata": {
        "id": "Q0BFfidEyyD4"
      },
      "source": [
        "The model is overfitting.\n"
      ]
    },
    {
      "cell_type": "code",
      "execution_count": null,
      "metadata": {
        "id": "7TqN3jTwyyD4"
      },
      "outputs": [],
      "source": [
        "search = GridSearchCV(pipe, param_grid, n_jobs=1)\n"
      ]
    },
    {
      "cell_type": "code",
      "execution_count": null,
      "metadata": {
        "id": "CJoeaxIHyyD4"
      },
      "outputs": [],
      "source": [
        "pipe.fit(X_train, y_train)"
      ]
    },
    {
      "cell_type": "code",
      "execution_count": null,
      "metadata": {
        "id": "71tLRGSUyyD4"
      },
      "outputs": [],
      "source": [
        "search.fit(X_test, y_test)"
      ]
    },
    {
      "cell_type": "markdown",
      "metadata": {
        "id": "usoX_vpOyyD4"
      },
      "source": [
        "The object finds the best parameter values on the validation data. We can obtain the estimator with the best parameters and assign it to the variable ```best```, as follows:\n"
      ]
    },
    {
      "cell_type": "code",
      "execution_count": null,
      "metadata": {
        "id": "1wOfZQ8EyyD4"
      },
      "outputs": [],
      "source": [
        "best=search.best_estimator_\n",
        "best"
      ]
    },
    {
      "cell_type": "markdown",
      "metadata": {
        "id": "0plop2FbyyD5"
      },
      "source": [
        "We see the degree is one and normalize is <code>Ture </code>.\n"
      ]
    },
    {
      "cell_type": "markdown",
      "metadata": {
        "id": "8MnyvFB_yyD5"
      },
      "source": [
        "Now, we test our model on the test data to see the best score.\n"
      ]
    },
    {
      "cell_type": "code",
      "execution_count": null,
      "metadata": {
        "id": "Lx225PD3yyD5"
      },
      "outputs": [],
      "source": [
        "best.score(X_test,y_test)"
      ]
    },
    {
      "cell_type": "markdown",
      "metadata": {
        "id": "jH9DTB8dyyD5"
      },
      "source": [
        "Finally, we can plot a distribution of the predicted values versus the actual values.\n"
      ]
    },
    {
      "cell_type": "code",
      "execution_count": null,
      "metadata": {
        "id": "OwcmR4V0yyD5"
      },
      "outputs": [],
      "source": [
        "predicted=best.predict(X_test)\n",
        "plot_dis(y_test,predicted)"
      ]
    },
    {
      "cell_type": "markdown",
      "metadata": {
        "id": "fG9sYcGLyyD5"
      },
      "source": [
        "As we see, the result is almost perfect!\n"
      ]
    },
    {
      "cell_type": "markdown",
      "metadata": {
        "id": "7PqHy6h0yyD5"
      },
      "source": [
        "## Exercise 4\n",
        "In this Exercise, calculate the $R^2$ using the object ```Pipeline``` with ```GridSearch``` for each individual features.\n"
      ]
    },
    {
      "cell_type": "code",
      "execution_count": null,
      "metadata": {
        "id": "BTigO5bXyyD5"
      },
      "outputs": [],
      "source": [
        "# Enter your code and run the cell\n"
      ]
    },
    {
      "cell_type": "markdown",
      "metadata": {
        "id": "DmkARPEByyD5"
      },
      "source": [
        "<details>\n",
        "<summary><strong>Solution</strong> (Click Here)</summary>\n",
        "\n",
        "```python    \n",
        "features=list(X)\n",
        "   \n",
        "    \n",
        "R_2_train=[]\n",
        "R_2_test=[]\n",
        "\n",
        "for feature in features:\n",
        "    param_grid = {\n",
        "    \"polynomial__degree\": [ 1, 2,3,4,5],\n",
        "    \"model__positive\":[True, False]}\n",
        "    Input=[ ('polynomial', PolynomialFeatures(include_bias=False,degree=2)), ('model',LinearRegression())]\n",
        "    pipe=Pipeline(Input)\n",
        "    print(feature)\n",
        "    search = GridSearchCV(pipe, param_grid, n_jobs=2)\n",
        "    search.fit(X_test[[feature]], y_test)\n",
        "    best=search.best_estimator_\n",
        "        \n",
        "    R_2_test.append(best.score(X_test[[feature]],y_test))\n",
        "    R_2_train.append(best.score(X_train[[feature]],y_train))\n",
        "    \n",
        "        \n",
        "plt.bar(features,R_2_train,label=\"Train\")\n",
        "plt.bar(features,R_2_test,label=\"Test\")\n",
        "plt.xticks(rotation=90)\n",
        "plt.ylabel(\"$R^2$\")\n",
        "plt.legend()\n",
        "plt.show()\n",
        "print(\"Training R^2 mean value {} Testing R^2 mean value {} \".format(str(np.mean(R_2_train)),str(np.mean(R_2_test))) )\n",
        "print(\"Training R^2 max value {} Testing R^2 max value {} \".format(str(np.max(R_2_train)),str(np.max(R_2_test))) )\n",
        "```\n",
        "</details>\n"
      ]
    },
    {
      "cell_type": "markdown",
      "metadata": {
        "id": "Iijo2xN_yyD5"
      },
      "source": [
        "# Congratulations! - You have completed the lab\n"
      ]
    },
    {
      "cell_type": "markdown",
      "metadata": {
        "id": "PAXh6wofyyD5"
      },
      "source": [
        "## Authors\n"
      ]
    },
    {
      "cell_type": "markdown",
      "metadata": {
        "id": "B7DlPC7-yyD5"
      },
      "source": [
        "<a href=\"https://www.linkedin.com/in/joseph-s-50398b136/?utm_medium=Exinfluencer&utm_source=Exinfluencer&utm_content=000026UJ&utm_term=10006555&utm_id=NA-SkillsNetwork-Channel-SkillsNetworkCoursesIBMDeveloperSkillsNetworkML0101ENSkillsNetwork20718538-2021-01-01\">Joseph Santarcangelo</a>\n",
        "\n",
        "[Svitlana Kramar](www.linkedin.com/in/svitlana-kramar)\n"
      ]
    },
    {
      "cell_type": "markdown",
      "metadata": {
        "id": "Qog23Uw9yyD5"
      },
      "source": [
        "## Change Log\n"
      ]
    },
    {
      "cell_type": "markdown",
      "metadata": {
        "id": "DsdhSAvCyyD6"
      },
      "source": [
        "| Date (YYYY-MM-DD) | Version | Changed By            | Change Description                   |\n",
        "| ----------------- | ------- | --------------------- | ------------------------------------ |\n",
        "|   2022-04-15      | 0.1     | Svitlana K.           | Created the first draft |\n",
        "|   2022-04-18      | 0.1     | Joseph S.             | Updated all content |\n",
        "|   2022-04-26      | 0.1     | Svitlana K.           | Corrected minor grammar errors |\n",
        "\n"
      ]
    }
  ],
  "metadata": {
    "kernelspec": {
      "display_name": "Python",
      "language": "python",
      "name": "conda-env-python-py"
    },
    "language_info": {
      "name": ""
    },
    "colab": {
      "provenance": [],
      "include_colab_link": true
    }
  },
  "nbformat": 4,
  "nbformat_minor": 0
}